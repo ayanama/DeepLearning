{
 "cells": [
  {
   "cell_type": "markdown",
   "metadata": {},
   "source": [
    "# LSTM Stock Predictor Using Closing Prices\n",
    "\n",
    "In this notebook, you will build and train a custom LSTM RNN that uses a 10 day window of Bitcoin closing prices to predict the 11th day closing price. \n",
    "\n",
    "You will need to:\n",
    "\n",
    "1. Prepare the data for training and testing\n",
    "2. Build and train a custom LSTM RNN\n",
    "3. Evaluate the performance of the model"
   ]
  },
  {
   "cell_type": "markdown",
   "metadata": {},
   "source": [
    "## Data Preparation\n",
    "\n",
    "In this section, you will need to prepare the training and testing data for the model. The model will use a rolling 10 day window to predict the 11th day closing price.\n",
    "\n",
    "You will need to:\n",
    "1. Use the `window_data` function to generate the X and y values for the model.\n",
    "2. Split the data into 70% training and 30% testing\n",
    "3. Apply the MinMaxScaler to the X and y values\n",
    "4. Reshape the X_train and X_test data for the model. Note: The required input format for the LSTM is:\n",
    "\n",
    "```python\n",
    "reshape((X_train.shape[0], X_train.shape[1], 1))\n",
    "```"
   ]
  },
  {
   "cell_type": "code",
   "execution_count": 1,
   "metadata": {},
   "outputs": [],
   "source": [
    "import numpy as np\n",
    "import pandas as pd\n",
    "# import hvplot.pandas"
   ]
  },
  {
   "cell_type": "code",
   "execution_count": 2,
   "metadata": {},
   "outputs": [],
   "source": [
    "# Set the random seed for reproducibility\n",
    "# Note: This is for the homework solution, but it is good practice to comment this out and run multiple experiments to evaluate your model\n",
    "from numpy.random import seed\n",
    "seed(1)\n",
    "# from tensorflow import random\n",
    "# random.set_seed(2)"
   ]
  },
  {
   "cell_type": "code",
   "execution_count": 3,
   "metadata": {},
   "outputs": [
    {
     "data": {
      "text/html": [
       "<div>\n",
       "<style scoped>\n",
       "    .dataframe tbody tr th:only-of-type {\n",
       "        vertical-align: middle;\n",
       "    }\n",
       "\n",
       "    .dataframe tbody tr th {\n",
       "        vertical-align: top;\n",
       "    }\n",
       "\n",
       "    .dataframe thead th {\n",
       "        text-align: right;\n",
       "    }\n",
       "</style>\n",
       "<table border=\"1\" class=\"dataframe\">\n",
       "  <thead>\n",
       "    <tr style=\"text-align: right;\">\n",
       "      <th></th>\n",
       "      <th>fng_value</th>\n",
       "    </tr>\n",
       "    <tr>\n",
       "      <th>date</th>\n",
       "      <th></th>\n",
       "    </tr>\n",
       "  </thead>\n",
       "  <tbody>\n",
       "    <tr>\n",
       "      <th>2019-07-29</th>\n",
       "      <td>19</td>\n",
       "    </tr>\n",
       "    <tr>\n",
       "      <th>2019-07-28</th>\n",
       "      <td>16</td>\n",
       "    </tr>\n",
       "    <tr>\n",
       "      <th>2019-07-27</th>\n",
       "      <td>47</td>\n",
       "    </tr>\n",
       "    <tr>\n",
       "      <th>2019-07-26</th>\n",
       "      <td>24</td>\n",
       "    </tr>\n",
       "    <tr>\n",
       "      <th>2019-07-25</th>\n",
       "      <td>42</td>\n",
       "    </tr>\n",
       "  </tbody>\n",
       "</table>\n",
       "</div>"
      ],
      "text/plain": [
       "             fng_value\n",
       "date                  \n",
       "2019-07-29          19\n",
       "2019-07-28          16\n",
       "2019-07-27          47\n",
       "2019-07-26          24\n",
       "2019-07-25          42"
      ]
     },
     "execution_count": 3,
     "metadata": {},
     "output_type": "execute_result"
    }
   ],
   "source": [
    "# Load the fear and greed sentiment data for Bitcoin\n",
    "df = pd.read_csv('btc_sentiment.csv', index_col=\"date\", infer_datetime_format=True, parse_dates=True)\n",
    "df = df.drop(columns=\"fng_classification\")\n",
    "df.head()"
   ]
  },
  {
   "cell_type": "code",
   "execution_count": 4,
   "metadata": {},
   "outputs": [
    {
     "data": {
      "text/plain": [
       "Date\n",
       "2019-07-25    9882.429688\n",
       "2019-07-26    9847.450195\n",
       "2019-07-27    9478.320313\n",
       "2019-07-28    9531.769531\n",
       "2019-07-29    9529.889648\n",
       "Name: Close, dtype: float64"
      ]
     },
     "execution_count": 4,
     "metadata": {},
     "output_type": "execute_result"
    }
   ],
   "source": [
    "# Load the historical closing prices for Bitcoin\n",
    "df2 = pd.read_csv('btc_historic.csv', index_col=\"Date\", infer_datetime_format=True, parse_dates=True)['Close']\n",
    "df2 = df2.sort_index()\n",
    "df2.tail()"
   ]
  },
  {
   "cell_type": "code",
   "execution_count": 5,
   "metadata": {},
   "outputs": [
    {
     "data": {
      "text/html": [
       "<div>\n",
       "<style scoped>\n",
       "    .dataframe tbody tr th:only-of-type {\n",
       "        vertical-align: middle;\n",
       "    }\n",
       "\n",
       "    .dataframe tbody tr th {\n",
       "        vertical-align: top;\n",
       "    }\n",
       "\n",
       "    .dataframe thead th {\n",
       "        text-align: right;\n",
       "    }\n",
       "</style>\n",
       "<table border=\"1\" class=\"dataframe\">\n",
       "  <thead>\n",
       "    <tr style=\"text-align: right;\">\n",
       "      <th></th>\n",
       "      <th>fng_value</th>\n",
       "      <th>Close</th>\n",
       "    </tr>\n",
       "  </thead>\n",
       "  <tbody>\n",
       "    <tr>\n",
       "      <th>2019-07-25</th>\n",
       "      <td>42</td>\n",
       "      <td>9882.429688</td>\n",
       "    </tr>\n",
       "    <tr>\n",
       "      <th>2019-07-26</th>\n",
       "      <td>24</td>\n",
       "      <td>9847.450195</td>\n",
       "    </tr>\n",
       "    <tr>\n",
       "      <th>2019-07-27</th>\n",
       "      <td>47</td>\n",
       "      <td>9478.320313</td>\n",
       "    </tr>\n",
       "    <tr>\n",
       "      <th>2019-07-28</th>\n",
       "      <td>16</td>\n",
       "      <td>9531.769531</td>\n",
       "    </tr>\n",
       "    <tr>\n",
       "      <th>2019-07-29</th>\n",
       "      <td>19</td>\n",
       "      <td>9529.889648</td>\n",
       "    </tr>\n",
       "  </tbody>\n",
       "</table>\n",
       "</div>"
      ],
      "text/plain": [
       "             fng_value        Close\n",
       "2019-07-25          42  9882.429688\n",
       "2019-07-26          24  9847.450195\n",
       "2019-07-27          47  9478.320313\n",
       "2019-07-28          16  9531.769531\n",
       "2019-07-29          19  9529.889648"
      ]
     },
     "execution_count": 5,
     "metadata": {},
     "output_type": "execute_result"
    }
   ],
   "source": [
    "# Join the data into a single DataFrame\n",
    "df = df.join(df2, how=\"inner\")\n",
    "df.tail()"
   ]
  },
  {
   "cell_type": "code",
   "execution_count": 6,
   "metadata": {},
   "outputs": [
    {
     "data": {
      "text/html": [
       "<div>\n",
       "<style scoped>\n",
       "    .dataframe tbody tr th:only-of-type {\n",
       "        vertical-align: middle;\n",
       "    }\n",
       "\n",
       "    .dataframe tbody tr th {\n",
       "        vertical-align: top;\n",
       "    }\n",
       "\n",
       "    .dataframe thead th {\n",
       "        text-align: right;\n",
       "    }\n",
       "</style>\n",
       "<table border=\"1\" class=\"dataframe\">\n",
       "  <thead>\n",
       "    <tr style=\"text-align: right;\">\n",
       "      <th></th>\n",
       "      <th>fng_value</th>\n",
       "      <th>Close</th>\n",
       "    </tr>\n",
       "  </thead>\n",
       "  <tbody>\n",
       "    <tr>\n",
       "      <th>2018-02-01</th>\n",
       "      <td>30</td>\n",
       "      <td>9114.719727</td>\n",
       "    </tr>\n",
       "    <tr>\n",
       "      <th>2018-02-02</th>\n",
       "      <td>15</td>\n",
       "      <td>8870.820313</td>\n",
       "    </tr>\n",
       "    <tr>\n",
       "      <th>2018-02-03</th>\n",
       "      <td>40</td>\n",
       "      <td>9251.269531</td>\n",
       "    </tr>\n",
       "    <tr>\n",
       "      <th>2018-02-04</th>\n",
       "      <td>24</td>\n",
       "      <td>8218.049805</td>\n",
       "    </tr>\n",
       "    <tr>\n",
       "      <th>2018-02-05</th>\n",
       "      <td>11</td>\n",
       "      <td>6937.080078</td>\n",
       "    </tr>\n",
       "  </tbody>\n",
       "</table>\n",
       "</div>"
      ],
      "text/plain": [
       "             fng_value        Close\n",
       "2018-02-01          30  9114.719727\n",
       "2018-02-02          15  8870.820313\n",
       "2018-02-03          40  9251.269531\n",
       "2018-02-04          24  8218.049805\n",
       "2018-02-05          11  6937.080078"
      ]
     },
     "execution_count": 6,
     "metadata": {},
     "output_type": "execute_result"
    }
   ],
   "source": [
    "df.head()"
   ]
  },
  {
   "cell_type": "code",
   "execution_count": 7,
   "metadata": {},
   "outputs": [],
   "source": [
    "# This function accepts the column number for the features (X) and the target (y)\n",
    "# It chunks the data up with a rolling window of Xt-n to predict Xt\n",
    "# It returns a numpy array of X any y\n",
    "def window_data(df, window, feature_col_number, target_col_number):\n",
    "    X = []\n",
    "    y = []\n",
    "    for i in range(len(df) - window - 1):\n",
    "        features = df.iloc[i:(i + window), feature_col_number]\n",
    "        target = df.iloc[(i + window), target_col_number]\n",
    "        X.append(features)\n",
    "        y.append(target)\n",
    "    return np.array(X), np.array(y).reshape(-1, 1)"
   ]
  },
  {
   "cell_type": "code",
   "execution_count": 8,
   "metadata": {},
   "outputs": [],
   "source": [
    "# Predict Closing Prices using a 10 day window of previous closing prices\n",
    "# Then, experiment with window sizes anywhere from 1 to 10 and see how the model performance changes\n",
    "window_size = 7\n",
    "\n",
    "# Column index 0 is the 'fng_value' column\n",
    "# Column index 1 is the `Close` column\n",
    "feature_column = 1\n",
    "target_column = 1\n",
    "X, y = window_data(df, window_size, feature_column, target_column)"
   ]
  },
  {
   "cell_type": "code",
   "execution_count": 9,
   "metadata": {},
   "outputs": [],
   "source": [
    "# Use 70% of the data for training and the remaineder for testing\n",
    "split = int(0.7 * len(X))\n",
    "X_train = X[: split]\n",
    "X_test = X[split:]\n",
    "y_train = y[: split]\n",
    "y_test = y[split:]\n"
   ]
  },
  {
   "cell_type": "code",
   "execution_count": 10,
   "metadata": {},
   "outputs": [],
   "source": [
    "\n",
    "# Use the MinMaxScaler to scale data between 0 and 1.\n",
    "from sklearn.preprocessing import MinMaxScaler\n",
    "scaler = MinMaxScaler()\n",
    "\n",
    "scaler.fit(X_train)\n",
    "X_train = scaler.transform(X_train)\n",
    "X_test = scaler.transform(X_test)\n",
    "\n",
    "\n",
    "scaler.fit(y_train)\n",
    "y_train = scaler.transform(y_train)\n",
    "y_test = scaler.transform(y_test)"
   ]
  },
  {
   "cell_type": "code",
   "execution_count": 11,
   "metadata": {},
   "outputs": [],
   "source": [
    "# Reshape the features for the model\n",
    "X_train = X_train.reshape((X_train.shape[0], X_train.shape[1], 1))\n",
    "X_test = X_test.reshape((X_test.shape[0], X_test.shape[1], 1))"
   ]
  },
  {
   "cell_type": "markdown",
   "metadata": {},
   "source": [
    "---"
   ]
  },
  {
   "cell_type": "markdown",
   "metadata": {},
   "source": [
    "## Build and Train the LSTM RNN\n",
    "\n",
    "In this section, you will design a custom LSTM RNN and fit (train) it using the training data.\n",
    "\n",
    "You will need to:\n",
    "1. Define the model architecture\n",
    "2. Compile the model\n",
    "3. Fit the model to the training data\n",
    "\n",
    "### Hints:\n",
    "You will want to use the same model architecture and random seed for both notebooks. This is necessary to accurately compare the performance of the FNG model vs the closing price model. "
   ]
  },
  {
   "cell_type": "code",
   "execution_count": 12,
   "metadata": {},
   "outputs": [],
   "source": [
    "from tensorflow.keras.models import Sequential\n",
    "from tensorflow.keras.layers import LSTM, Dense, Dropout"
   ]
  },
  {
   "cell_type": "code",
   "execution_count": 13,
   "metadata": {},
   "outputs": [],
   "source": [
    "# Build the LSTM model. \n",
    "# The return sequences need to be set to True if you are adding additional LSTM layers, but \n",
    "# You don't have to do this for the final layer. \n",
    "# Note: The dropouts help prevent overfitting\n",
    "# Note: The input shape is the number of time steps and the number of indicators\n",
    "# Note: Batching inputs has a different input shape of Samples/TimeSteps/Features\n",
    "\n",
    "model = Sequential()\n",
    "\n",
    "number_units = 30\n",
    "dropout_fraction = 0.2\n",
    "\n",
    "# Layer 1                                             \n",
    "model.add(LSTM(\n",
    "    units=number_units,\n",
    "    return_sequences=True,\n",
    "    input_shape=(X_train.shape[1], 1))\n",
    "    )\n",
    "model.add(Dropout(dropout_fraction))\n",
    "# Layer 2\n",
    "model.add(LSTM(units=number_units, return_sequences= True))\n",
    "model.add(Dropout(dropout_fraction))\n",
    "# Layer 3\n",
    "model.add(LSTM(units=number_units))\n",
    "model.add(Dropout(dropout_fraction))\n",
    "# Output layer\n",
    "model.add(Dense(1))"
   ]
  },
  {
   "cell_type": "code",
   "execution_count": 14,
   "metadata": {},
   "outputs": [],
   "source": [
    "# Compile the model\n",
    "model.compile(optimizer=\"adam\", loss=\"mean_squared_error\")"
   ]
  },
  {
   "cell_type": "code",
   "execution_count": 15,
   "metadata": {},
   "outputs": [
    {
     "name": "stdout",
     "output_type": "stream",
     "text": [
      "Model: \"sequential\"\n",
      "_________________________________________________________________\n",
      " Layer (type)                Output Shape              Param #   \n",
      "=================================================================\n",
      " lstm (LSTM)                 (None, 7, 30)             3840      \n",
      "                                                                 \n",
      " dropout (Dropout)           (None, 7, 30)             0         \n",
      "                                                                 \n",
      " lstm_1 (LSTM)               (None, 7, 30)             7320      \n",
      "                                                                 \n",
      " dropout_1 (Dropout)         (None, 7, 30)             0         \n",
      "                                                                 \n",
      " lstm_2 (LSTM)               (None, 30)                7320      \n",
      "                                                                 \n",
      " dropout_2 (Dropout)         (None, 30)                0         \n",
      "                                                                 \n",
      " dense (Dense)               (None, 1)                 31        \n",
      "                                                                 \n",
      "=================================================================\n",
      "Total params: 18,511\n",
      "Trainable params: 18,511\n",
      "Non-trainable params: 0\n",
      "_________________________________________________________________\n"
     ]
    }
   ],
   "source": [
    "# Summarize the model\n",
    "model.summary()"
   ]
  },
  {
   "cell_type": "code",
   "execution_count": 16,
   "metadata": {},
   "outputs": [
    {
     "name": "stdout",
     "output_type": "stream",
     "text": [
      "Epoch 1/100\n",
      "374/374 [==============================] - 5s 6ms/step - loss: 0.0250\n",
      "Epoch 2/100\n",
      "374/374 [==============================] - 2s 6ms/step - loss: 0.0189\n",
      "Epoch 3/100\n",
      "374/374 [==============================] - 2s 7ms/step - loss: 0.0294\n",
      "Epoch 4/100\n",
      "374/374 [==============================] - 2s 6ms/step - loss: 0.0294\n",
      "Epoch 5/100\n",
      "374/374 [==============================] - 2s 6ms/step - loss: 0.0258\n",
      "Epoch 6/100\n",
      "374/374 [==============================] - 2s 6ms/step - loss: 0.0206\n",
      "Epoch 7/100\n",
      "374/374 [==============================] - 2s 7ms/step - loss: 0.0181\n",
      "Epoch 8/100\n",
      "374/374 [==============================] - 2s 6ms/step - loss: 0.0172\n",
      "Epoch 9/100\n",
      "374/374 [==============================] - 2s 6ms/step - loss: 0.0159\n",
      "Epoch 10/100\n",
      "374/374 [==============================] - 2s 6ms/step - loss: 0.0140\n",
      "Epoch 11/100\n",
      "374/374 [==============================] - 2s 6ms/step - loss: 0.0151\n",
      "Epoch 12/100\n",
      "374/374 [==============================] - 2s 6ms/step - loss: 0.0135\n",
      "Epoch 13/100\n",
      "374/374 [==============================] - 2s 6ms/step - loss: 0.0141\n",
      "Epoch 14/100\n",
      "374/374 [==============================] - 2s 6ms/step - loss: 0.0121\n",
      "Epoch 15/100\n",
      "374/374 [==============================] - 2s 6ms/step - loss: 0.0103\n",
      "Epoch 16/100\n",
      "374/374 [==============================] - 2s 6ms/step - loss: 0.0105\n",
      "Epoch 17/100\n",
      "374/374 [==============================] - 2s 6ms/step - loss: 0.0105\n",
      "Epoch 18/100\n",
      "374/374 [==============================] - 2s 6ms/step - loss: 0.0095\n",
      "Epoch 19/100\n",
      "374/374 [==============================] - 2s 6ms/step - loss: 0.0105\n",
      "Epoch 20/100\n",
      "374/374 [==============================] - 2s 6ms/step - loss: 0.0085\n",
      "Epoch 21/100\n",
      "374/374 [==============================] - 2s 6ms/step - loss: 0.0075\n",
      "Epoch 22/100\n",
      "374/374 [==============================] - 2s 6ms/step - loss: 0.0080\n",
      "Epoch 23/100\n",
      "374/374 [==============================] - 2s 6ms/step - loss: 0.0073\n",
      "Epoch 24/100\n",
      "374/374 [==============================] - 2s 6ms/step - loss: 0.0060\n",
      "Epoch 25/100\n",
      "374/374 [==============================] - 2s 6ms/step - loss: 0.0056\n",
      "Epoch 26/100\n",
      "374/374 [==============================] - 2s 6ms/step - loss: 0.0051\n",
      "Epoch 27/100\n",
      "374/374 [==============================] - 2s 6ms/step - loss: 0.0046\n",
      "Epoch 28/100\n",
      "374/374 [==============================] - 2s 6ms/step - loss: 0.0049\n",
      "Epoch 29/100\n",
      "374/374 [==============================] - 2s 6ms/step - loss: 0.0046\n",
      "Epoch 30/100\n",
      "374/374 [==============================] - 2s 7ms/step - loss: 0.0046\n",
      "Epoch 31/100\n",
      "374/374 [==============================] - 2s 6ms/step - loss: 0.0044\n",
      "Epoch 32/100\n",
      "374/374 [==============================] - 2s 6ms/step - loss: 0.0043\n",
      "Epoch 33/100\n",
      "374/374 [==============================] - 2s 6ms/step - loss: 0.0039\n",
      "Epoch 34/100\n",
      "374/374 [==============================] - 2s 6ms/step - loss: 0.0043\n",
      "Epoch 35/100\n",
      "374/374 [==============================] - 2s 7ms/step - loss: 0.0047\n",
      "Epoch 36/100\n",
      "374/374 [==============================] - 2s 6ms/step - loss: 0.0036\n",
      "Epoch 37/100\n",
      "374/374 [==============================] - 2s 6ms/step - loss: 0.0037\n",
      "Epoch 38/100\n",
      "374/374 [==============================] - 2s 6ms/step - loss: 0.0037\n",
      "Epoch 39/100\n",
      "374/374 [==============================] - 2s 6ms/step - loss: 0.0041\n",
      "Epoch 40/100\n",
      "374/374 [==============================] - 2s 6ms/step - loss: 0.0035\n",
      "Epoch 41/100\n",
      "374/374 [==============================] - 2s 6ms/step - loss: 0.0036\n",
      "Epoch 42/100\n",
      "374/374 [==============================] - 2s 6ms/step - loss: 0.0032\n",
      "Epoch 43/100\n",
      "374/374 [==============================] - 2s 6ms/step - loss: 0.0034\n",
      "Epoch 44/100\n",
      "374/374 [==============================] - 2s 6ms/step - loss: 0.0044\n",
      "Epoch 45/100\n",
      "374/374 [==============================] - 2s 6ms/step - loss: 0.0040\n",
      "Epoch 46/100\n",
      "374/374 [==============================] - 2s 6ms/step - loss: 0.0040\n",
      "Epoch 47/100\n",
      "374/374 [==============================] - 2s 6ms/step - loss: 0.0039\n",
      "Epoch 48/100\n",
      "374/374 [==============================] - 2s 6ms/step - loss: 0.0042\n",
      "Epoch 49/100\n",
      "374/374 [==============================] - 2s 6ms/step - loss: 0.0038\n",
      "Epoch 50/100\n",
      "374/374 [==============================] - 2s 7ms/step - loss: 0.0035\n",
      "Epoch 51/100\n",
      "374/374 [==============================] - 2s 6ms/step - loss: 0.0027\n",
      "Epoch 52/100\n",
      "374/374 [==============================] - 2s 6ms/step - loss: 0.0034\n",
      "Epoch 53/100\n",
      "374/374 [==============================] - 2s 7ms/step - loss: 0.0036\n",
      "Epoch 54/100\n",
      "374/374 [==============================] - 2s 6ms/step - loss: 0.0032\n",
      "Epoch 55/100\n",
      "374/374 [==============================] - 2s 6ms/step - loss: 0.0035\n",
      "Epoch 56/100\n",
      "374/374 [==============================] - 2s 7ms/step - loss: 0.0037\n",
      "Epoch 57/100\n",
      "374/374 [==============================] - 2s 7ms/step - loss: 0.0035\n",
      "Epoch 58/100\n",
      "374/374 [==============================] - 2s 7ms/step - loss: 0.0033\n",
      "Epoch 59/100\n",
      "374/374 [==============================] - 2s 6ms/step - loss: 0.0028\n",
      "Epoch 60/100\n",
      "374/374 [==============================] - 2s 7ms/step - loss: 0.0040\n",
      "Epoch 61/100\n",
      "374/374 [==============================] - 2s 6ms/step - loss: 0.0033\n",
      "Epoch 62/100\n",
      "374/374 [==============================] - 2s 7ms/step - loss: 0.0035\n",
      "Epoch 63/100\n",
      "374/374 [==============================] - 2s 6ms/step - loss: 0.0039\n",
      "Epoch 64/100\n",
      "374/374 [==============================] - 2s 6ms/step - loss: 0.0035\n",
      "Epoch 65/100\n",
      "374/374 [==============================] - 2s 6ms/step - loss: 0.0032\n",
      "Epoch 66/100\n",
      "374/374 [==============================] - 3s 7ms/step - loss: 0.0029\n",
      "Epoch 67/100\n",
      "374/374 [==============================] - 3s 7ms/step - loss: 0.0031\n",
      "Epoch 68/100\n",
      "374/374 [==============================] - 2s 6ms/step - loss: 0.0034\n",
      "Epoch 69/100\n",
      "374/374 [==============================] - 2s 6ms/step - loss: 0.0033\n",
      "Epoch 70/100\n",
      "374/374 [==============================] - 2s 6ms/step - loss: 0.0034\n",
      "Epoch 71/100\n",
      "374/374 [==============================] - 2s 7ms/step - loss: 0.0027\n",
      "Epoch 72/100\n",
      "374/374 [==============================] - 2s 6ms/step - loss: 0.0028\n",
      "Epoch 73/100\n",
      "374/374 [==============================] - 2s 6ms/step - loss: 0.0030\n",
      "Epoch 74/100\n",
      "374/374 [==============================] - 2s 6ms/step - loss: 0.0031\n",
      "Epoch 75/100\n",
      "374/374 [==============================] - 2s 6ms/step - loss: 0.0032\n",
      "Epoch 76/100\n",
      "374/374 [==============================] - 2s 6ms/step - loss: 0.0036\n",
      "Epoch 77/100\n",
      "374/374 [==============================] - 2s 6ms/step - loss: 0.0034\n",
      "Epoch 78/100\n",
      "374/374 [==============================] - 2s 6ms/step - loss: 0.0029\n",
      "Epoch 79/100\n",
      "374/374 [==============================] - 2s 6ms/step - loss: 0.0037\n",
      "Epoch 80/100\n",
      "374/374 [==============================] - 2s 6ms/step - loss: 0.0033\n",
      "Epoch 81/100\n",
      "374/374 [==============================] - 2s 6ms/step - loss: 0.0028\n",
      "Epoch 82/100\n",
      "374/374 [==============================] - 2s 6ms/step - loss: 0.0035\n",
      "Epoch 83/100\n",
      "374/374 [==============================] - 2s 6ms/step - loss: 0.0031\n",
      "Epoch 84/100\n",
      "374/374 [==============================] - 2s 6ms/step - loss: 0.0031\n",
      "Epoch 85/100\n",
      "374/374 [==============================] - 2s 6ms/step - loss: 0.0033\n",
      "Epoch 86/100\n",
      "374/374 [==============================] - 2s 6ms/step - loss: 0.0034\n",
      "Epoch 87/100\n",
      "374/374 [==============================] - 2s 6ms/step - loss: 0.0031\n",
      "Epoch 88/100\n",
      "374/374 [==============================] - 2s 6ms/step - loss: 0.0029\n",
      "Epoch 89/100\n",
      "374/374 [==============================] - 2s 6ms/step - loss: 0.0032\n",
      "Epoch 90/100\n",
      "374/374 [==============================] - 2s 6ms/step - loss: 0.0028\n",
      "Epoch 91/100\n",
      "374/374 [==============================] - 2s 6ms/step - loss: 0.0027\n",
      "Epoch 92/100\n",
      "374/374 [==============================] - 2s 6ms/step - loss: 0.0028\n",
      "Epoch 93/100\n",
      "374/374 [==============================] - 2s 6ms/step - loss: 0.0027\n",
      "Epoch 94/100\n",
      "374/374 [==============================] - 2s 6ms/step - loss: 0.0031\n",
      "Epoch 95/100\n",
      "374/374 [==============================] - 2s 6ms/step - loss: 0.0027\n",
      "Epoch 96/100\n",
      "374/374 [==============================] - 2s 6ms/step - loss: 0.0024\n",
      "Epoch 97/100\n",
      "374/374 [==============================] - 2s 7ms/step - loss: 0.0025\n",
      "Epoch 98/100\n",
      "374/374 [==============================] - 2s 6ms/step - loss: 0.0027\n",
      "Epoch 99/100\n",
      "374/374 [==============================] - 2s 6ms/step - loss: 0.0033\n",
      "Epoch 100/100\n",
      "374/374 [==============================] - 2s 6ms/step - loss: 0.0028\n"
     ]
    },
    {
     "data": {
      "text/plain": [
       "<keras.callbacks.History at 0x156047bf588>"
      ]
     },
     "execution_count": 16,
     "metadata": {},
     "output_type": "execute_result"
    }
   ],
   "source": [
    "# Train the model\n",
    "# Use at least 10 epochs\n",
    "# Do not shuffle the data\n",
    "# Experiement with the batch size, but a smaller batch size is recommended\n",
    "model.fit(X_train, y_train, epochs=100, shuffle=False, batch_size=1, verbose=1)"
   ]
  },
  {
   "cell_type": "markdown",
   "metadata": {},
   "source": [
    "---"
   ]
  },
  {
   "cell_type": "markdown",
   "metadata": {},
   "source": [
    "## Model Performance\n",
    "\n",
    "In this section, you will evaluate the model using the test data. \n",
    "\n",
    "You will need to:\n",
    "1. Evaluate the model using the `X_test` and `y_test` data.\n",
    "2. Use the X_test data to make predictions\n",
    "3. Create a DataFrame of Real (y_test) vs predicted values. \n",
    "4. Plot the Real vs predicted values as a line chart\n",
    "\n",
    "### Hints\n",
    "Remember to apply the `inverse_transform` function to the predicted and y_test values to recover the actual closing prices."
   ]
  },
  {
   "cell_type": "code",
   "execution_count": 17,
   "metadata": {},
   "outputs": [
    {
     "name": "stdout",
     "output_type": "stream",
     "text": [
      "6/6 [==============================] - 1s 2ms/step - loss: 0.0189\n"
     ]
    },
    {
     "data": {
      "text/plain": [
       "0.018905790522694588"
      ]
     },
     "execution_count": 17,
     "metadata": {},
     "output_type": "execute_result"
    }
   ],
   "source": [
    "# Evaluate the model\n",
    "model.evaluate(X_test, y_test)"
   ]
  },
  {
   "cell_type": "code",
   "execution_count": 18,
   "metadata": {},
   "outputs": [],
   "source": [
    "# Make some predictions\n",
    "predicted = model.predict(X_test)"
   ]
  },
  {
   "cell_type": "code",
   "execution_count": 19,
   "metadata": {},
   "outputs": [],
   "source": [
    "# Recover the original prices instead of the scaled version\n",
    "predicted_prices = scaler.inverse_transform(predicted)\n",
    "real_prices = scaler.inverse_transform(y_test.reshape(-1, 1))"
   ]
  },
  {
   "cell_type": "code",
   "execution_count": 20,
   "metadata": {},
   "outputs": [
    {
     "data": {
      "text/html": [
       "<div>\n",
       "<style scoped>\n",
       "    .dataframe tbody tr th:only-of-type {\n",
       "        vertical-align: middle;\n",
       "    }\n",
       "\n",
       "    .dataframe tbody tr th {\n",
       "        vertical-align: top;\n",
       "    }\n",
       "\n",
       "    .dataframe thead th {\n",
       "        text-align: right;\n",
       "    }\n",
       "</style>\n",
       "<table border=\"1\" class=\"dataframe\">\n",
       "  <thead>\n",
       "    <tr style=\"text-align: right;\">\n",
       "      <th></th>\n",
       "      <th>Real</th>\n",
       "      <th>Predicted</th>\n",
       "    </tr>\n",
       "  </thead>\n",
       "  <tbody>\n",
       "    <tr>\n",
       "      <th>2019-02-19</th>\n",
       "      <td>3912.570068</td>\n",
       "      <td>3555.827881</td>\n",
       "    </tr>\n",
       "    <tr>\n",
       "      <th>2019-02-20</th>\n",
       "      <td>3924.239990</td>\n",
       "      <td>3589.770508</td>\n",
       "    </tr>\n",
       "    <tr>\n",
       "      <th>2019-02-21</th>\n",
       "      <td>3974.050049</td>\n",
       "      <td>3593.838867</td>\n",
       "    </tr>\n",
       "    <tr>\n",
       "      <th>2019-02-22</th>\n",
       "      <td>3937.040039</td>\n",
       "      <td>3597.483887</td>\n",
       "    </tr>\n",
       "    <tr>\n",
       "      <th>2019-02-23</th>\n",
       "      <td>3983.530029</td>\n",
       "      <td>3591.354492</td>\n",
       "    </tr>\n",
       "  </tbody>\n",
       "</table>\n",
       "</div>"
      ],
      "text/plain": [
       "                   Real    Predicted\n",
       "2019-02-19  3912.570068  3555.827881\n",
       "2019-02-20  3924.239990  3589.770508\n",
       "2019-02-21  3974.050049  3593.838867\n",
       "2019-02-22  3937.040039  3597.483887\n",
       "2019-02-23  3983.530029  3591.354492"
      ]
     },
     "execution_count": 20,
     "metadata": {},
     "output_type": "execute_result"
    }
   ],
   "source": [
    "# Create a DataFrame of Real and Predicted values\n",
    "stocks = pd.DataFrame({\n",
    "    \"Real\": real_prices.ravel(),\n",
    "    \"Predicted\": predicted_prices.ravel()\n",
    "}, index = df.index[-len(real_prices): ]) \n",
    "stocks.head()"
   ]
  },
  {
   "cell_type": "code",
   "execution_count": 21,
   "metadata": {},
   "outputs": [
    {
     "data": {
      "text/plain": [
       "<AxesSubplot:>"
      ]
     },
     "execution_count": 21,
     "metadata": {},
     "output_type": "execute_result"
    },
    {
     "data": {
      "image/png": "[encoded data removed]",
      "text/plain": [
       "<Figure size 432x288 with 1 Axes>"
      ]
     },
     "metadata": {
      "needs_background": "light"
     },
     "output_type": "display_data"
    }
   ],
   "source": [
    "# Plot the real vs predicted values as a line chart\n",
    "stocks.plot()"
   ]
  }
 ],
 "metadata": {
  "file_extension": ".py",
  "kernelspec": {
   "display_name": "Python 3.7.11 ('base')",
   "language": "python",
   "name": "python3"
  },
  "language_info": {
   "codemirror_mode": {
    "name": "ipython",
    "version": 3
   },
   "file_extension": ".py",
   "mimetype": "text/x-python",
   "name": "python",
   "nbconvert_exporter": "python",
   "pygments_lexer": "ipython3",
   "version": "3.7.11"
  },
  "mimetype": "text/x-python",
  "name": "python",
  "npconvert_exporter": "python",
  "pygments_lexer": "ipython3",
  "version": 3,
  "vscode": {
   "interpreter": {
    "hash": "b7af3079739bf0e6dd761eb59167c9825b6992d90e5569e779c54e6986e6ea3b"
   }
  }
 },
 "nbformat": 4,
 "nbformat_minor": 4
}
